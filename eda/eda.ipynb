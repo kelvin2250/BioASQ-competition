{
 "cells": [
  {
   "cell_type": "code",
   "execution_count": 1,
   "id": "51e94b8e",
   "metadata": {},
   "outputs": [
    {
     "name": "stdout",
     "output_type": "stream",
     "text": [
      "Tổng số câu hỏi:\n",
      "Yes/No: 1167\n",
      "Factoid: 1280\n",
      "List: 837\n",
      "Summary: 1026\n",
      "\n",
      "Phân bố nhãn Yes/No: Counter({1: 861, 0: 306})\n",
      "\n",
      "Độ dài context trung bình:\n",
      "Yes/No: 394.7335047129392\n",
      "Factoid: 345.4109375\n",
      "List: 436.55555555555554\n",
      "Summary: 392.9356725146199\n",
      "\n",
      "Số item trung bình trong list answers: 4.972520908004779\n",
      "Độ dài trung bình của ideal_answer: 54.95906432748538\n"
     ]
    }
   ],
   "source": [
    "import json\n",
    "import pandas as pd\n",
    "from collections import Counter\n",
    "\n",
    "# Load dữ liệu đã xử lý (đổi đường dẫn nếu dùng trên Kaggle)\n",
    "def load_jsonl(path):\n",
    "    with open(path, \"r\") as f:\n",
    "        return [json.loads(line) for line in f]\n",
    "\n",
    "yesno = load_jsonl(\"../data/processed/yesno_train.jsonl\")\n",
    "factoid = load_jsonl(\"../data/processed/factoid_train.jsonl\")\n",
    "list_q = load_jsonl(\"../data/processed/list_train.jsonl\")\n",
    "summary = load_jsonl(\"../data/processed/summary_train.jsonl\")\n",
    "\n",
    "# Tổng quan số lượng câu hỏi\n",
    "print(\"Tổng số câu hỏi:\")\n",
    "print(f\"Yes/No: {len(yesno)}\")\n",
    "print(f\"Factoid: {len(factoid)}\")\n",
    "print(f\"List: {len(list_q)}\")\n",
    "print(f\"Summary: {len(summary)}\")\n",
    "\n",
    "# Phân bố label yes/no\n",
    "yesno_labels = [ex[\"label\"] for ex in yesno]\n",
    "print(\"\\nPhân bố nhãn Yes/No:\", Counter(yesno_labels))\n",
    "\n",
    "# Độ dài context trung bình\n",
    "def avg_context_length(dataset):\n",
    "    return sum(len(ex[\"context\"].split()) for ex in dataset) / len(dataset)\n",
    "\n",
    "print(\"\\nĐộ dài context trung bình:\")\n",
    "print(\"Yes/No:\", avg_context_length(yesno))\n",
    "print(\"Factoid:\", avg_context_length(factoid))\n",
    "print(\"List:\", avg_context_length(list_q))\n",
    "print(\"Summary:\", avg_context_length(summary))\n",
    "\n",
    "# Số lượng item trung bình trong list answer\n",
    "list_lengths = [len(ex[\"answers\"]) for ex in list_q]\n",
    "print(\"\\nSố item trung bình trong list answers:\", sum(list_lengths)/len(list_lengths))\n",
    "\n",
    "# Độ dài trung bình của ideal answer\n",
    "ideal_lengths = [len(ex[\"ideal_answer\"].split()) for ex in summary]\n",
    "print(\"Độ dài trung bình của ideal_answer:\", sum(ideal_lengths)/len(ideal_lengths))\n"
   ]
  }
 ],
 "metadata": {
  "kernelspec": {
   "display_name": "Python 3",
   "language": "python",
   "name": "python3"
  },
  "language_info": {
   "codemirror_mode": {
    "name": "ipython",
    "version": 3
   },
   "file_extension": ".py",
   "mimetype": "text/x-python",
   "name": "python",
   "nbconvert_exporter": "python",
   "pygments_lexer": "ipython3",
   "version": "3.12.5"
  }
 },
 "nbformat": 4,
 "nbformat_minor": 5
}
